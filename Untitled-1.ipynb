{
 "cells": [
  {
   "cell_type": "code",
   "execution_count": null,
   "metadata": {},
   "outputs": [],
   "source": [
    "import tensorflow\n",
    "import numpy\n",
    "import matplotlib\n",
    "import seaborn"
   ]
  }
 ],
 "metadata": {
  "interpreter": {
   "hash": "857696eed46311398ef555d190c6da2c101d7a36e49bc58f019c1d474e55b4b5"
  },
  "kernelspec": {
   "display_name": "Python 3.8.12 64-bit ('final_pro': conda)",
   "language": "python",
   "name": "python3"
  },
  "language_info": {
   "name": "python",
   "version": "3.8.12"
  },
  "orig_nbformat": 4
 },
 "nbformat": 4,
 "nbformat_minor": 2
}
