{
 "cells": [
  {
   "cell_type": "markdown",
   "metadata": {},
   "source": [
    "#### Analysis of the GPU power consumption for training the model"
   ]
  },
  {
   "cell_type": "markdown",
   "metadata": {},
   "source": [
    "The GPU power consumption is measured by nvidia-smi using the following command line command:\n",
    "\n",
    "`nvidia-smi --query-gpu=index,timestamp,power.draw,clocks.sm,clocks.mem,clocks.gr --format=csv -l 1 -f ./GPU-stats.csv`\n",
    "\n",
    "This saves the current power consumption, and other information of the GPU in the file `GPU-stats.csv` in the current directory.\n",
    "\n",
    "The training was performed on a GTX 1070, CUDA 11.6 and CuDNN 8.5."
   ]
  },
  {
   "cell_type": "code",
   "execution_count": 2,
   "metadata": {},
   "outputs": [],
   "source": [
    "# Now we access the file and read the data\n",
    "\n",
    "import pandas as pd\n",
    "import numpy as np\n",
    "import matplotlib.pyplot as plt\n",
    "import string\n",
    "\n",
    "data = pd.read_csv('../Data/GPU-stats.csv')"
   ]
  },
  {
   "cell_type": "code",
   "execution_count": 24,
   "metadata": {},
   "outputs": [
    {
     "data": {
      "text/html": [
       "<div>\n",
       "<style scoped>\n",
       "    .dataframe tbody tr th:only-of-type {\n",
       "        vertical-align: middle;\n",
       "    }\n",
       "\n",
       "    .dataframe tbody tr th {\n",
       "        vertical-align: top;\n",
       "    }\n",
       "\n",
       "    .dataframe thead th {\n",
       "        text-align: right;\n",
       "    }\n",
       "</style>\n",
       "<table border=\"1\" class=\"dataframe\">\n",
       "  <thead>\n",
       "    <tr style=\"text-align: right;\">\n",
       "      <th></th>\n",
       "      <th>index</th>\n",
       "      <th>timestamp</th>\n",
       "      <th>power.draw [W]</th>\n",
       "      <th>clocks.current.sm [MHz]</th>\n",
       "      <th>clocks.current.memory [MHz]</th>\n",
       "      <th>clocks.current.graphics [MHz]</th>\n",
       "    </tr>\n",
       "  </thead>\n",
       "  <tbody>\n",
       "    <tr>\n",
       "      <th>0</th>\n",
       "      <td>0</td>\n",
       "      <td>14:31:54</td>\n",
       "      <td>8.55</td>\n",
       "      <td>83 MHz</td>\n",
       "      <td>405 MHz</td>\n",
       "      <td>83 MHz</td>\n",
       "    </tr>\n",
       "    <tr>\n",
       "      <th>1</th>\n",
       "      <td>0</td>\n",
       "      <td>14:31:55</td>\n",
       "      <td>7.29</td>\n",
       "      <td>88 MHz</td>\n",
       "      <td>405 MHz</td>\n",
       "      <td>88 MHz</td>\n",
       "    </tr>\n",
       "    <tr>\n",
       "      <th>2</th>\n",
       "      <td>0</td>\n",
       "      <td>14:31:56</td>\n",
       "      <td>8.11</td>\n",
       "      <td>114 MHz</td>\n",
       "      <td>405 MHz</td>\n",
       "      <td>114 MHz</td>\n",
       "    </tr>\n",
       "    <tr>\n",
       "      <th>3</th>\n",
       "      <td>0</td>\n",
       "      <td>14:31:57</td>\n",
       "      <td>8.65</td>\n",
       "      <td>115 MHz</td>\n",
       "      <td>405 MHz</td>\n",
       "      <td>115 MHz</td>\n",
       "    </tr>\n",
       "    <tr>\n",
       "      <th>4</th>\n",
       "      <td>0</td>\n",
       "      <td>14:31:58</td>\n",
       "      <td>9.38</td>\n",
       "      <td>170 MHz</td>\n",
       "      <td>405 MHz</td>\n",
       "      <td>170 MHz</td>\n",
       "    </tr>\n",
       "  </tbody>\n",
       "</table>\n",
       "</div>"
      ],
      "text/plain": [
       "   index  timestamp   power.draw [W]  clocks.current.sm [MHz]  \\\n",
       "0      0   14:31:54             8.55                   83 MHz   \n",
       "1      0   14:31:55             7.29                   88 MHz   \n",
       "2      0   14:31:56             8.11                  114 MHz   \n",
       "3      0   14:31:57             8.65                  115 MHz   \n",
       "4      0   14:31:58             9.38                  170 MHz   \n",
       "\n",
       "   clocks.current.memory [MHz]  clocks.current.graphics [MHz]  \n",
       "0                      405 MHz                         83 MHz  \n",
       "1                      405 MHz                         88 MHz  \n",
       "2                      405 MHz                        114 MHz  \n",
       "3                      405 MHz                        115 MHz  \n",
       "4                      405 MHz                        170 MHz  "
      ]
     },
     "execution_count": 24,
     "metadata": {},
     "output_type": "execute_result"
    }
   ],
   "source": [
    "data[' timestamp'] = pd.to_datetime(data[' timestamp'])\n",
    "data[' timestamp'] = data[' timestamp'].dt.strftime('%H:%M:%S')\n",
    "data[' power.draw [W]'] = data[' power.draw [W]'].str.replace('W', '').astype(float)\n",
    "data.head()"
   ]
  },
  {
   "cell_type": "code",
   "execution_count": 40,
   "metadata": {},
   "outputs": [
    {
     "data": {
      "image/png": "[encoded data removed]",
      "text/plain": [
       "<Figure size 720x360 with 1 Axes>"
      ]
     },
     "metadata": {
      "needs_background": "light"
     },
     "output_type": "display_data"
    }
   ],
   "source": [
    "plt.figure(figsize=(10,5))\n",
    "plt.plot(np.arange(0,len(data[' power.draw [W]']),1), data[' power.draw [W]'], color='coral', label='Power Draw')\n",
    "plt.xlabel('Timestamps (Seconds)')\n",
    "plt.xticks(rotation=30)\n",
    "plt.ylabel('Power Draw (W)')\n",
    "plt.title('GPU Power Draw during Training')\n",
    "plt.show()"
   ]
  },
  {
   "cell_type": "code",
   "execution_count": 51,
   "metadata": {},
   "outputs": [
    {
     "name": "stdout",
     "output_type": "stream",
     "text": [
      " Total energy usage = 3688.06W or 0.1KWh\n"
     ]
    }
   ],
   "source": [
    "total_energy_usage = data[' power.draw [W]'].sum()\n",
    "kWh = total_energy_usage * ( len(data[' power.draw [W]']) / 3600 ) / 1000\n",
    "print(f' Total energy usage = {total_energy_usage}W or {round(kWh, 2)}KWh')"
   ]
  }
 ],
 "metadata": {
  "interpreter": {
   "hash": "56e98236f8c636bf46699ec7acbcf4f82fa7d2f8d04c118bb47e5affabcc0765"
  },
  "kernelspec": {
   "display_name": "Python 3.6.13 ('cuda2')",
   "language": "python",
   "name": "python3"
  },
  "language_info": {
   "codemirror_mode": {
    "name": "ipython",
    "version": 3
   },
   "file_extension": ".py",
   "mimetype": "text/x-python",
   "name": "python",
   "nbconvert_exporter": "python",
   "pygments_lexer": "ipython3",
   "version": "3.6.13"
  },
  "orig_nbformat": 4
 },
 "nbformat": 4,
 "nbformat_minor": 2
}
