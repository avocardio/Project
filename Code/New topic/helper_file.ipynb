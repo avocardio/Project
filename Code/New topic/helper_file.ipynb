{
 "cells": [
  {
   "cell_type": "code",
   "execution_count": 1,
   "metadata": {},
   "outputs": [],
   "source": [
    "import os"
   ]
  },
  {
   "cell_type": "code",
   "execution_count": 2,
   "metadata": {},
   "outputs": [],
   "source": [
    "DIR_TRAIN = '../../Data/Use/Train/'\n",
    "DIR_TEST = '../../Data/Use/Test/'\n",
    "DIR_VALID = '../../Data/Use/Validation/'"
   ]
  },
  {
   "cell_type": "code",
   "execution_count": 5,
   "metadata": {},
   "outputs": [
    {
     "data": {
      "text/plain": [
       "390"
      ]
     },
     "execution_count": 5,
     "metadata": {},
     "output_type": "execute_result"
    }
   ],
   "source": [
    "len(list(os.listdir(DIR_TEST)))"
   ]
  },
  {
   "cell_type": "code",
   "execution_count": 6,
   "metadata": {},
   "outputs": [
    {
     "name": "stdout",
     "output_type": "stream",
     "text": [
      "CASPIAN TERN\n",
      "D-ARNAUDS BARBET\n",
      "DARK EYED JUNCO\n",
      "HOUSE FINCH\n",
      "OVENBIRD\n",
      "OYSTER CATCHER\n",
      "RED TAILED HAWK\n",
      "SWINHOES PHEASANT\n",
      "VIOLET GREEN SWALLOW\n",
      "WOOD DUCK\n"
     ]
    }
   ],
   "source": [
    "# Find missing files\n",
    "\n",
    "for i in os.listdir(DIR_VALID):\n",
    "    if i not in os.listdir(DIR_TEST):\n",
    "        print(i)"
   ]
  },
  {
   "cell_type": "code",
   "execution_count": null,
   "metadata": {},
   "outputs": [],
   "source": []
  }
 ],
 "metadata": {
  "interpreter": {
   "hash": "56e98236f8c636bf46699ec7acbcf4f82fa7d2f8d04c118bb47e5affabcc0765"
  },
  "kernelspec": {
   "display_name": "Python 3.6.13 ('cuda2')",
   "language": "python",
   "name": "python3"
  },
  "language_info": {
   "codemirror_mode": {
    "name": "ipython",
    "version": 3
   },
   "file_extension": ".py",
   "mimetype": "text/x-python",
   "name": "python",
   "nbconvert_exporter": "python",
   "pygments_lexer": "ipython3",
   "version": "3.6.13"
  },
  "orig_nbformat": 4
 },
 "nbformat": 4,
 "nbformat_minor": 2
}
