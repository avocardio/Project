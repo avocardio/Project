{
 "cells": [
  {
   "cell_type": "code",
   "execution_count": 2,
   "metadata": {},
   "outputs": [
    {
     "name": "stdout",
     "output_type": "stream",
     "text": [
      "Num GPUs Available:  1\n"
     ]
    }
   ],
   "source": [
    "import numpy as np\n",
    "import pandas as pd\n",
    "import matplotlib.pyplot as plt\n",
    "import tensorflow as tf\n",
    "from PIL import Image\n",
    "import requests\n",
    "\n",
    "import os\n",
    "os.environ['TF_CPP_MIN_LOG_LEVEL'] = '3'\n",
    "\n",
    "print(\"Num GPUs Available: \", len(tf.config.list_physical_devices('GPU')))"
   ]
  },
  {
   "cell_type": "code",
   "execution_count": 40,
   "metadata": {},
   "outputs": [],
   "source": [
    "# Blocks for the ResNet50\n",
    "\n",
    "# [1x1, 64]\n",
    "# [3x3, 64]  x 3 \n",
    "# [1x1, 256]\n",
    "\n",
    "# [1x1, 128]\n",
    "# [3x3, 128] x 4\n",
    "# [1x1, 512]\n",
    "\n",
    "# [1x1, 256]\n",
    "# [3x3, 256] x 6\n",
    "# [1x1, 1024]\n",
    "\n",
    "# [1x1, 512]\n",
    "# [3x3, 512] x 3\n",
    "# [1x1, 2048]\n",
    "\n",
    "class Block(tf.keras.Model):\n",
    "    def __init__(self, input_channels, output_channels, identity_block=False, identity_strides=1):\n",
    "        super(Block, self).__init__()\n",
    "        self.conv1 = tf.keras.layers.Conv2D(input_channels, (1, 1), strides=identity_strides)\n",
    "        self.conv2 = tf.keras.layers.Conv2D(input_channels, (3, 3), padding='same')\n",
    "        self.conv3 = tf.keras.layers.Conv2D(output_channels, (1, 1), padding='same')\n",
    "\n",
    "        if identity_block is False:\n",
    "            self.shortcut = tf.keras.layers.Conv2D(output_channels, (1, 1), strides=identity_strides, padding='same')\n",
    "\n",
    "        self.bn1 = tf.keras.layers.BatchNormalization()\n",
    "        self.bn2 = tf.keras.layers.BatchNormalization()\n",
    "        self.bn3 = tf.keras.layers.BatchNormalization()\n",
    "        self.bn4 = tf.keras.layers.BatchNormalization()\n",
    "\n",
    "    def call(self, input):\n",
    "\n",
    "        x = self.conv1(input)\n",
    "        x = self.bn1(x)\n",
    "        x = tf.nn.relu(x)\n",
    "\n",
    "        x = self.conv2(x)\n",
    "        x = self.bn2(x)\n",
    "        x = tf.nn.relu(x)\n",
    "\n",
    "        x = self.conv3(x)\n",
    "        x = self.bn3(x)\n",
    "\n",
    "        if hasattr(self, 'shortcut'):\n",
    "            input = self.shortcut(input)\n",
    "            input = self.bn4(input)\n",
    "            \n",
    "        y = tf.keras.layers.Add()([x, input])\n",
    "        y = tf.nn.relu(y)\n",
    "\n",
    "        return y"
   ]
  },
  {
   "cell_type": "code",
   "execution_count": 49,
   "metadata": {},
   "outputs": [
    {
     "name": "stdout",
     "output_type": "stream",
     "text": [
      "(1, 224, 224, 512)\n"
     ]
    }
   ],
   "source": [
    "block = Block(128, 512, identity_block=True)\n",
    "X = tf.random.uniform((1, 224, 224, 512))\n",
    "Y = block(X)\n",
    "print(Y.shape)"
   ]
  },
  {
   "cell_type": "code",
   "execution_count": 44,
   "metadata": {},
   "outputs": [
    {
     "name": "stdout",
     "output_type": "stream",
     "text": [
      "(1, 112, 112, 512)\n"
     ]
    }
   ],
   "source": [
    "block = Block(128, 512, identity_block=False, identity_strides=2)\n",
    "X = tf.random.uniform((1, 224, 224, 256))\n",
    "Y = block(X)\n",
    "print(Y.shape)"
   ]
  },
  {
   "cell_type": "code",
   "execution_count": 52,
   "metadata": {},
   "outputs": [],
   "source": [
    "# ResNet50\n",
    "\n",
    "# Base layer\n",
    "# ConvBlock\n",
    "# IdentityBlock x2\n",
    "# ConvBlock\n",
    "# IdentityBlock x3\n",
    "# ConvBlock\n",
    "# IdentityBlock x5\n",
    "# ConvBlock\n",
    "# IdentityBlock x2\n",
    "# AvgPool\n",
    "# FC\n",
    "\n",
    "class ResNet50(tf.keras.Model):\n",
    "    def __init__(self, num_classes):\n",
    "        super(ResNet50, self).__init__()\n",
    "        self.conv1 = tf.keras.layers.Conv2D(input_shape=(224,224,3), filters=64, kernel_size=(7, 7), strides=2, padding='same')\n",
    "        self.bn1 = tf.keras.layers.BatchNormalization()\n",
    "        self.maxpool1 = tf.keras.layers.MaxPool2D((3, 3), strides=2, padding='same')\n",
    "\n",
    "        self.block1_1 = Block(64, 256, False, 1)\n",
    "        self.block1_2 = Block(64, 256, True, 1)\n",
    "        self.block1_3 = Block(64, 256, True, 1)\n",
    "\n",
    "        self.block2_1 = Block(128, 512, False, 2)\n",
    "        self.block2_2 = Block(128, 512, True, 1)\n",
    "        self.block2_3 = Block(128, 512, True, 1)\n",
    "        self.block2_4 = Block(128, 512, True, 1)\n",
    "\n",
    "        self.block3_1 = Block(256, 1024, False, 2)\n",
    "        self.block3_2 = Block(256, 1024, True, 1)\n",
    "        self.block3_3 = Block(256, 1024, True, 1)\n",
    "        self.block3_4 = Block(256, 1024, True, 1)\n",
    "        self.block3_5 = Block(256, 1024, True, 1)\n",
    "        self.block3_6 = Block(256, 1024, True, 1)\n",
    "\n",
    "        self.block4_1 = Block(512, 2048, False, 2)\n",
    "        self.block4_2 = Block(512, 2048, True, 1)\n",
    "        self.block4_3 = Block(512, 2048, True, 1)\n",
    "\n",
    "        self.avgpool = tf.keras.layers.GlobalAveragePooling2D()\n",
    "        self.fc = tf.keras.layers.Dense(num_classes, activation='softmax')\n",
    "\n",
    "    def call(self, input):\n",
    "        x = self.conv1(input)\n",
    "        x = self.bn1(x)\n",
    "        x = tf.nn.relu(x)\n",
    "        x = self.maxpool1(x)\n",
    "\n",
    "        x = self.block1_1(x)\n",
    "        x = self.block1_2(x)\n",
    "        x = self.block1_3(x)\n",
    "\n",
    "        x = self.block2_1(x)\n",
    "        x = self.block2_2(x)\n",
    "        x = self.block2_3(x)\n",
    "        x = self.block2_4(x)\n",
    "\n",
    "        x = self.block3_1(x)\n",
    "        x = self.block3_2(x)\n",
    "        x = self.block3_3(x)\n",
    "        x = self.block3_4(x)\n",
    "        x = self.block3_5(x)\n",
    "        x = self.block3_6(x)\n",
    "\n",
    "        x = self.block4_1(x)\n",
    "        x = self.block4_2(x)\n",
    "        x = self.block4_3(x)\n",
    "\n",
    "        x = self.avgpool(x)\n",
    "        x = self.fc(x)\n",
    "\n",
    "        return x"
   ]
  },
  {
   "cell_type": "code",
   "execution_count": 54,
   "metadata": {},
   "outputs": [
    {
     "name": "stdout",
     "output_type": "stream",
     "text": [
      "Model: \"res_net50_1\"\n",
      "_________________________________________________________________\n",
      "Layer (type)                 Output Shape              Param #   \n",
      "=================================================================\n",
      "conv2d_167 (Conv2D)          multiple                  9472      \n",
      "_________________________________________________________________\n",
      "batch_normalization_205 (Bat multiple                  256       \n",
      "_________________________________________________________________\n",
      "max_pooling2d_1 (MaxPooling2 multiple                  0         \n",
      "_________________________________________________________________\n",
      "block_49 (Block)             multiple                  76928     \n",
      "_________________________________________________________________\n",
      "block_50 (Block)             multiple                  71552     \n",
      "_________________________________________________________________\n",
      "block_51 (Block)             multiple                  71552     \n",
      "_________________________________________________________________\n",
      "block_52 (Block)             multiple                  383232    \n",
      "_________________________________________________________________\n",
      "block_53 (Block)             multiple                  282368    \n",
      "_________________________________________________________________\n",
      "block_54 (Block)             multiple                  282368    \n",
      "_________________________________________________________________\n",
      "block_55 (Block)             multiple                  282368    \n",
      "_________________________________________________________________\n",
      "block_56 (Block)             multiple                  1520128   \n",
      "_________________________________________________________________\n",
      "block_57 (Block)             multiple                  1121792   \n",
      "_________________________________________________________________\n",
      "block_58 (Block)             multiple                  1121792   \n",
      "_________________________________________________________________\n",
      "block_59 (Block)             multiple                  1121792   \n",
      "_________________________________________________________________\n",
      "block_60 (Block)             multiple                  1121792   \n",
      "_________________________________________________________________\n",
      "block_61 (Block)             multiple                  1121792   \n",
      "_________________________________________________________________\n",
      "block_62 (Block)             multiple                  6054912   \n",
      "_________________________________________________________________\n",
      "block_63 (Block)             multiple                  4471808   \n",
      "_________________________________________________________________\n",
      "block_64 (Block)             multiple                  4471808   \n",
      "_________________________________________________________________\n",
      "global_average_pooling2d_1 ( multiple                  0         \n",
      "_________________________________________________________________\n",
      "dense_1 (Dense)              multiple                  819600    \n",
      "=================================================================\n",
      "Total params: 24,407,312\n",
      "Trainable params: 24,354,192\n",
      "Non-trainable params: 53,120\n",
      "_________________________________________________________________\n"
     ]
    }
   ],
   "source": [
    "model = ResNet50(num_classes=400)\n",
    "model.build(input_shape=(None, 224, 224, 3))\n",
    "model.compile(optimizer='adam', loss='categorical_crossentropy', metrics=['accuracy'])\n",
    "model.summary()"
   ]
  },
  {
   "cell_type": "code",
   "execution_count": null,
   "metadata": {},
   "outputs": [],
   "source": []
  }
 ],
 "metadata": {
  "interpreter": {
   "hash": "56e98236f8c636bf46699ec7acbcf4f82fa7d2f8d04c118bb47e5affabcc0765"
  },
  "kernelspec": {
   "display_name": "Python 3.6.13 ('cuda2')",
   "language": "python",
   "name": "python3"
  },
  "language_info": {
   "codemirror_mode": {
    "name": "ipython",
    "version": 3
   },
   "file_extension": ".py",
   "mimetype": "text/x-python",
   "name": "python",
   "nbconvert_exporter": "python",
   "pygments_lexer": "ipython3",
   "version": "3.6.13"
  },
  "orig_nbformat": 4
 },
 "nbformat": 4,
 "nbformat_minor": 2
}
