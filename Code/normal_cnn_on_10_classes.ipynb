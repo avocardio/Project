{
 "cells": [
  {
   "cell_type": "markdown",
   "metadata": {},
   "source": [
    "#### Normal CNN for the Bird classification"
   ]
  },
  {
   "cell_type": "code",
   "execution_count": 1,
   "metadata": {},
   "outputs": [],
   "source": [
    "import numpy as np\n",
    "import pandas as pd\n",
    "import matplotlib.pyplot as plt\n",
    "import tensorflow as tf\n",
    "from PIL import Image\n",
    "\n",
    "import os\n",
    "os.environ['TF_CPP_MIN_LOG_LEVEL'] = '3'"
   ]
  },
  {
   "cell_type": "code",
   "execution_count": 2,
   "metadata": {},
   "outputs": [
    {
     "name": "stdout",
     "output_type": "stream",
     "text": [
      "Num GPUs Available:  1\n"
     ]
    }
   ],
   "source": [
    "print(\"Num GPUs Available: \", len(tf.config.list_physical_devices('GPU')))"
   ]
  },
  {
   "cell_type": "code",
   "execution_count": 7,
   "metadata": {},
   "outputs": [],
   "source": [
    "DIR_TRAIN = '../Data/Use/Train/'\n",
    "DIR_VALID = '../Data/Use/Valid/'"
   ]
  },
  {
   "cell_type": "code",
   "execution_count": 9,
   "metadata": {},
   "outputs": [
    {
     "data": {
      "text/plain": [
       "['CASPIAN TERN',\n",
       " 'D-ARNAUDS BARBET',\n",
       " 'DARK EYED JUNCO',\n",
       " 'HOUSE FINCH',\n",
       " 'OVENBIRD',\n",
       " 'OYSTER CATCHER',\n",
       " 'RED TAILED HAWK',\n",
       " 'SWINHOES PHEASANT',\n",
       " 'VIOLET GREEN SWALLOW',\n",
       " 'WOOD DUCK']"
      ]
     },
     "execution_count": 9,
     "metadata": {},
     "output_type": "execute_result"
    }
   ],
   "source": [
    "os.listdir(DIR_VALID)"
   ]
  },
  {
   "cell_type": "code",
   "execution_count": 21,
   "metadata": {},
   "outputs": [
    {
     "name": "stdout",
     "output_type": "stream",
     "text": [
      "Found 1000 images belonging to 10 classes.\n",
      "Found 50 images belonging to 10 classes.\n"
     ]
    }
   ],
   "source": [
    "train_datagen = tf.keras.preprocessing.image.ImageDataGenerator(rescale=1./255)\n",
    "valid_datagen = tf.keras.preprocessing.image.ImageDataGenerator(rescale=1./255)\n",
    "\n",
    "train_datagen = train_datagen.flow_from_directory(DIR_TRAIN,\n",
    "                                                target_size=(224,224), \n",
    "                                                color_mode='rgb', \n",
    "                                                class_mode='categorical', \n",
    "                                                batch_size=8,\n",
    "                                                shuffle=True)\n",
    "\n",
    "valid_datagen = valid_datagen.flow_from_directory(DIR_VALID,\n",
    "                                                target_size=(224,224), \n",
    "                                                color_mode='rgb', \n",
    "                                                class_mode='categorical', \n",
    "                                                batch_size=8,\n",
    "                                                shuffle=True)"
   ]
  },
  {
   "cell_type": "code",
   "execution_count": 22,
   "metadata": {},
   "outputs": [],
   "source": [
    "class ConvNet(tf.keras.Model):\n",
    "    def __init__(self):\n",
    "        super(ConvNet, self).__init__()\n",
    "\n",
    "        self.layer = [\n",
    "            tf.keras.layers.Conv2D(filters=32, kernel_size=(3,3), padding='same', activation='relu'),\n",
    "            tf.keras.layers.BatchNormalization(),\n",
    "            tf.keras.layers.MaxPool2D(pool_size=(4,4), strides=(4,4)),\n",
    "            tf.keras.layers.Dropout(0.2),\n",
    "            tf.keras.layers.Conv2D(filters=64, kernel_size=(3,3), padding='same', activation='relu'),\n",
    "            tf.keras.layers.BatchNormalization(),\n",
    "            tf.keras.layers.MaxPool2D(pool_size=(4,4), strides=(4,4)),\n",
    "            tf.keras.layers.Dropout(0.2),\n",
    "            tf.keras.layers.Conv2D(filters=128, kernel_size=(3,3), padding='same', activation='relu'),\n",
    "            tf.keras.layers.BatchNormalization(),\n",
    "            tf.keras.layers.Flatten(),\n",
    "            tf.keras.layers.Dense(10, activation='softmax')\n",
    "        ]\n",
    "\n",
    "    def call(self, x):\n",
    "\n",
    "        for i in self.layer:\n",
    "            x = i(x)\n",
    "        return x"
   ]
  },
  {
   "cell_type": "code",
   "execution_count": 23,
   "metadata": {},
   "outputs": [],
   "source": [
    "net = ConvNet()\n",
    "\n",
    "net.build(input_shape=(8, 224, 224, 3))\n",
    "net.compile(optimizer='adam', loss='categorical_crossentropy', metrics=['accuracy'])"
   ]
  },
  {
   "cell_type": "code",
   "execution_count": 25,
   "metadata": {},
   "outputs": [
    {
     "name": "stdout",
     "output_type": "stream",
     "text": [
      "Epoch 1/10\n",
      "125/125 [==============================] - 2s 17ms/step - loss: 0.0900 - accuracy: 0.9910 - val_loss: 4.3708 - val_accuracy: 0.7400\n",
      "Epoch 2/10\n",
      "125/125 [==============================] - 2s 17ms/step - loss: 0.0615 - accuracy: 0.9880 - val_loss: 12.4937 - val_accuracy: 0.5800\n",
      "Epoch 3/10\n",
      "125/125 [==============================] - 2s 17ms/step - loss: 0.1301 - accuracy: 0.9790 - val_loss: 8.7461 - val_accuracy: 0.5400\n",
      "Epoch 4/10\n",
      "125/125 [==============================] - 2s 17ms/step - loss: 0.0912 - accuracy: 0.9850 - val_loss: 9.8933 - val_accuracy: 0.5800\n",
      "Epoch 5/10\n",
      "125/125 [==============================] - 2s 17ms/step - loss: 0.1750 - accuracy: 0.9820 - val_loss: 3.7809 - val_accuracy: 0.7200\n",
      "Epoch 6/10\n",
      "125/125 [==============================] - 2s 17ms/step - loss: 0.1731 - accuracy: 0.9780 - val_loss: 32.5168 - val_accuracy: 0.4800\n",
      "Epoch 7/10\n",
      "125/125 [==============================] - 2s 17ms/step - loss: 0.0457 - accuracy: 0.9890 - val_loss: 16.5271 - val_accuracy: 0.5800\n",
      "Epoch 8/10\n",
      "125/125 [==============================] - 2s 17ms/step - loss: 0.0994 - accuracy: 0.9870 - val_loss: 2.2399 - val_accuracy: 0.8000\n",
      "Epoch 9/10\n",
      "125/125 [==============================] - 2s 17ms/step - loss: 0.0361 - accuracy: 0.9920 - val_loss: 4.6821 - val_accuracy: 0.7200\n",
      "Epoch 10/10\n",
      "125/125 [==============================] - 2s 17ms/step - loss: 0.0259 - accuracy: 0.9950 - val_loss: 5.4457 - val_accuracy: 0.6600\n"
     ]
    },
    {
     "data": {
      "text/plain": [
       "<keras.callbacks.History at 0x15db7f30630>"
      ]
     },
     "execution_count": 25,
     "metadata": {},
     "output_type": "execute_result"
    }
   ],
   "source": [
    "net.fit(train_datagen, epochs=10, validation_data=valid_datagen)"
   ]
  }
 ],
 "metadata": {
  "interpreter": {
   "hash": "0b3de3e748b7b1d94279800ed1eb3e886f8d8c071752c4d9db2d0cf6def872da"
  },
  "kernelspec": {
   "display_name": "Python 3.9.5 ('base')",
   "language": "python",
   "name": "python3"
  },
  "language_info": {
   "codemirror_mode": {
    "name": "ipython",
    "version": 3
   },
   "file_extension": ".py",
   "mimetype": "text/x-python",
   "name": "python",
   "nbconvert_exporter": "python",
   "pygments_lexer": "ipython3",
   "version": "3.6.13"
  },
  "orig_nbformat": 4
 },
 "nbformat": 4,
 "nbformat_minor": 2
}
