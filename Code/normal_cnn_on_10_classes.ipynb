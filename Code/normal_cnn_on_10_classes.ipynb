{
 "cells": [
  {
   "cell_type": "markdown",
   "metadata": {},
   "source": [
    "#### Normal CNN for the Bird classification"
   ]
  },
  {
   "cell_type": "code",
   "execution_count": 1,
   "metadata": {},
   "outputs": [],
   "source": [
    "import numpy as np\n",
    "import pandas as pd\n",
    "import matplotlib.pyplot as plt\n",
    "import tensorflow as tf\n",
    "from PIL import Image\n",
    "\n",
    "import os\n",
    "os.environ['TF_CPP_MIN_LOG_LEVEL'] = '3'"
   ]
  },
  {
   "cell_type": "code",
   "execution_count": 2,
   "metadata": {},
   "outputs": [
    {
     "name": "stdout",
     "output_type": "stream",
     "text": [
      "Num GPUs Available:  1\n"
     ]
    }
   ],
   "source": [
    "print(\"Num GPUs Available: \", len(tf.config.list_physical_devices('GPU')))"
   ]
  },
  {
   "cell_type": "code",
   "execution_count": 3,
   "metadata": {},
   "outputs": [],
   "source": [
    "DIR_TRAIN = \"\\\\Users\\\\Maxi\\\\Downloads\\\\archive\\\\train\\\\\"\n",
    "DIR_VALID = \"\\\\Users\\\\Maxi\\\\Downloads\\\\archive\\\\valid\\\\\"\n",
    "DIR_TEST = \"\\\\Users\\\\Maxi\\\\Downloads\\\\archive\\\\test\\\\\""
   ]
  },
  {
   "cell_type": "code",
   "execution_count": 4,
   "metadata": {},
   "outputs": [
    {
     "name": "stdout",
     "output_type": "stream",
     "text": [
      "Found 56046 images belonging to 385 classes.\n",
      "Found 1925 images belonging to 385 classes.\n",
      "Found 1925 images belonging to 385 classes.\n"
     ]
    }
   ],
   "source": [
    "train_datagen = tf.keras.preprocessing.image.ImageDataGenerator(rescale=1./255)\n",
    "valid_datagen = tf.keras.preprocessing.image.ImageDataGenerator(rescale=1./255)\n",
    "test_datagen = tf.keras.preprocessing.image.ImageDataGenerator(rescale=1./255)\n",
    "\n",
    "train_datagen = train_datagen.flow_from_directory(DIR_TRAIN,\n",
    "                                                target_size=(224,224), \n",
    "                                                color_mode='rgb', \n",
    "                                                class_mode='categorical', \n",
    "                                                batch_size=32,\n",
    "                                                shuffle=True)\n",
    "\n",
    "valid_datagen = valid_datagen.flow_from_directory(DIR_VALID,\n",
    "                                                target_size=(224,224), \n",
    "                                                color_mode='rgb', \n",
    "                                                class_mode='categorical', \n",
    "                                                batch_size=32,\n",
    "                                                shuffle=True)\n",
    "\n",
    "test_datagen = test_datagen.flow_from_directory(DIR_TEST,\n",
    "                                                target_size=(224,224), \n",
    "                                                color_mode='rgb', \n",
    "                                                class_mode='categorical', \n",
    "                                                batch_size=32,\n",
    "                                                shuffle=True)"
   ]
  },
  {
   "cell_type": "code",
   "execution_count": 5,
   "metadata": {},
   "outputs": [],
   "source": [
    "def callable_generator(generator):\n",
    "    def gen():\n",
    "        for x,y in generator:\n",
    "            yield x,y\n",
    "    return gen\n",
    "\n",
    "train = callable_generator(train_datagen)\n",
    "valid = callable_generator(valid_datagen)\n",
    "test = callable_generator(test_datagen)"
   ]
  },
  {
   "cell_type": "code",
   "execution_count": 6,
   "metadata": {},
   "outputs": [],
   "source": [
    "train_dataset = tf.data.Dataset.from_generator(train, output_types=(tf.float32, tf.float32), output_shapes=((32,224,224,3), (32,)))\n",
    "valid_dataset = tf.data.Dataset.from_generator(valid, output_types=(tf.float32, tf.float32), output_shapes=((32,224,224,3), (32,)))\n",
    "test_dataset = tf.data.Dataset.from_generator(test, output_types=(tf.float32, tf.float32), output_shapes=((32,224,224,3), (32,)))"
   ]
  },
  {
   "cell_type": "code",
   "execution_count": 7,
   "metadata": {},
   "outputs": [
    {
     "data": {
      "text/plain": [
       "<FlatMapDataset shapes: ((32, 224, 224, 3), (32,)), types: (tf.float32, tf.float32)>"
      ]
     },
     "execution_count": 7,
     "metadata": {},
     "output_type": "execute_result"
    }
   ],
   "source": [
    "train_dataset"
   ]
  },
  {
   "cell_type": "code",
   "execution_count": 8,
   "metadata": {},
   "outputs": [],
   "source": [
    "class ConvNet(tf.keras.Model):\n",
    "    def __init__(self):\n",
    "        super(ConvNet, self).__init__()\n",
    "\n",
    "        self.layer = [\n",
    "            tf.keras.layers.Conv2D(filters=32, kernel_size=(3,3), padding='same', activation='relu'),\n",
    "            tf.keras.layers.BatchNormalization(),\n",
    "            tf.keras.layers.MaxPool2D(pool_size=(4,4), strides=(4,4)),\n",
    "            tf.keras.layers.Dropout(0.2),\n",
    "            tf.keras.layers.Conv2D(filters=64, kernel_size=(3,3), padding='same', activation='relu'),\n",
    "            tf.keras.layers.BatchNormalization(),\n",
    "            tf.keras.layers.MaxPool2D(pool_size=(4,4), strides=(4,4)),\n",
    "            tf.keras.layers.Dropout(0.2),\n",
    "            tf.keras.layers.Conv2D(filters=128, kernel_size=(3,3), padding='same', activation='relu'),\n",
    "            tf.keras.layers.BatchNormalization(),\n",
    "            tf.keras.layers.Flatten(),\n",
    "            tf.keras.layers.Dense(385, activation='softmax')\n",
    "        ]\n",
    "\n",
    "    def call(self, x):\n",
    "\n",
    "        for i in self.layer:\n",
    "            x = i(x)\n",
    "        return x"
   ]
  },
  {
   "cell_type": "code",
   "execution_count": 9,
   "metadata": {},
   "outputs": [],
   "source": [
    "net = ConvNet()\n",
    "\n",
    "net.build(input_shape=(32, 224, 224, 3))\n",
    "net.compile(optimizer='adam', loss='categorical_crossentropy', metrics=['accuracy'])"
   ]
  },
  {
   "cell_type": "code",
   "execution_count": 10,
   "metadata": {},
   "outputs": [
    {
     "name": "stdout",
     "output_type": "stream",
     "text": [
      "Epoch 1/5\n",
      "1752/1752 [==============================] - 349s 198ms/step - loss: 3.6311 - accuracy: 0.2963 - val_loss: 2.8241 - val_accuracy: 0.4296\n",
      "Epoch 2/5\n",
      "1752/1752 [==============================] - 105s 60ms/step - loss: 1.8888 - accuracy: 0.5721 - val_loss: 3.0696 - val_accuracy: 0.5356\n",
      "Epoch 3/5\n",
      "1752/1752 [==============================] - 106s 61ms/step - loss: 1.2044 - accuracy: 0.7068 - val_loss: 3.2637 - val_accuracy: 0.5273\n",
      "Epoch 4/5\n",
      "1752/1752 [==============================] - 107s 61ms/step - loss: 0.7742 - accuracy: 0.7959 - val_loss: 2.1543 - val_accuracy: 0.5584\n",
      "Epoch 5/5\n",
      "1752/1752 [==============================] - 107s 61ms/step - loss: 0.5251 - accuracy: 0.8528 - val_loss: 5.4829 - val_accuracy: 0.4878\n"
     ]
    },
    {
     "data": {
      "text/plain": [
       "<keras.callbacks.History at 0x1e32c9537b8>"
      ]
     },
     "execution_count": 10,
     "metadata": {},
     "output_type": "execute_result"
    }
   ],
   "source": [
    "net.fit(train_datagen, epochs=5, validation_data=valid_datagen)"
   ]
  }
 ],
 "metadata": {
  "interpreter": {
   "hash": "0b3de3e748b7b1d94279800ed1eb3e886f8d8c071752c4d9db2d0cf6def872da"
  },
  "kernelspec": {
   "display_name": "Python 3.9.5 ('base')",
   "language": "python",
   "name": "python3"
  },
  "language_info": {
   "codemirror_mode": {
    "name": "ipython",
    "version": 3
   },
   "file_extension": ".py",
   "mimetype": "text/x-python",
   "name": "python",
   "nbconvert_exporter": "python",
   "pygments_lexer": "ipython3",
   "version": "3.6.13"
  },
  "orig_nbformat": 4
 },
 "nbformat": 4,
 "nbformat_minor": 2
}
