{
 "cells": [
  {
   "cell_type": "markdown",
   "metadata": {},
   "source": [
    "#### Analysis of the GPU power consumption for training the model"
   ]
  },
  {
   "cell_type": "markdown",
   "metadata": {},
   "source": [
    "The GPU power consumption is measured by nvidia-smi using the following command line command:\n",
    "\n",
    "`nvidia-smi --query-gpu=index,timestamp,power.draw,clocks.sm,clocks.mem,clocks.gr --format=csv -l 1 -f ./GPU-stats.csv`\n",
    "\n",
    "This saves the current power consumption, and other information of the GPU in the file `GPU-stats.csv` in the current directory.\n",
    "\n",
    "The training was performed on a GTX 1070, CUDA 11.6 and CuDNN 8.5."
   ]
  },
  {
   "cell_type": "code",
   "execution_count": 61,
   "metadata": {},
   "outputs": [],
   "source": [
    "# Now we access the file and read the data\n",
    "\n",
    "import pandas as pd\n",
    "import numpy as np\n",
    "import matplotlib.pyplot as plt\n",
    "import string\n",
    "\n",
    "data = pd.read_csv('../Data/GPU/LCNN_no_preprocessing.csv')"
   ]
  },
  {
   "cell_type": "code",
   "execution_count": 62,
   "metadata": {},
   "outputs": [
    {
     "data": {
      "text/html": [
       "<div>\n",
       "<style scoped>\n",
       "    .dataframe tbody tr th:only-of-type {\n",
       "        vertical-align: middle;\n",
       "    }\n",
       "\n",
       "    .dataframe tbody tr th {\n",
       "        vertical-align: top;\n",
       "    }\n",
       "\n",
       "    .dataframe thead th {\n",
       "        text-align: right;\n",
       "    }\n",
       "</style>\n",
       "<table border=\"1\" class=\"dataframe\">\n",
       "  <thead>\n",
       "    <tr style=\"text-align: right;\">\n",
       "      <th></th>\n",
       "      <th>index</th>\n",
       "      <th>timestamp</th>\n",
       "      <th>power.draw [W]</th>\n",
       "      <th>clocks.current.sm [MHz]</th>\n",
       "      <th>clocks.current.memory [MHz]</th>\n",
       "      <th>clocks.current.graphics [MHz]</th>\n",
       "    </tr>\n",
       "  </thead>\n",
       "  <tbody>\n",
       "    <tr>\n",
       "      <th>0</th>\n",
       "      <td>0</td>\n",
       "      <td>21:05:15</td>\n",
       "      <td>8.94</td>\n",
       "      <td>175 MHz</td>\n",
       "      <td>405 MHz</td>\n",
       "      <td>175 MHz</td>\n",
       "    </tr>\n",
       "    <tr>\n",
       "      <th>1</th>\n",
       "      <td>0</td>\n",
       "      <td>21:05:16</td>\n",
       "      <td>11.08</td>\n",
       "      <td>185 MHz</td>\n",
       "      <td>405 MHz</td>\n",
       "      <td>185 MHz</td>\n",
       "    </tr>\n",
       "    <tr>\n",
       "      <th>2</th>\n",
       "      <td>0</td>\n",
       "      <td>21:05:17</td>\n",
       "      <td>14.24</td>\n",
       "      <td>248 MHz</td>\n",
       "      <td>405 MHz</td>\n",
       "      <td>248 MHz</td>\n",
       "    </tr>\n",
       "    <tr>\n",
       "      <th>3</th>\n",
       "      <td>0</td>\n",
       "      <td>21:05:18</td>\n",
       "      <td>37.46</td>\n",
       "      <td>945 MHz</td>\n",
       "      <td>3802 MHz</td>\n",
       "      <td>945 MHz</td>\n",
       "    </tr>\n",
       "    <tr>\n",
       "      <th>4</th>\n",
       "      <td>0</td>\n",
       "      <td>21:05:19</td>\n",
       "      <td>34.05</td>\n",
       "      <td>1504 MHz</td>\n",
       "      <td>3802 MHz</td>\n",
       "      <td>1504 MHz</td>\n",
       "    </tr>\n",
       "  </tbody>\n",
       "</table>\n",
       "</div>"
      ],
      "text/plain": [
       "   index  timestamp   power.draw [W]  clocks.current.sm [MHz]  \\\n",
       "0      0   21:05:15             8.94                  175 MHz   \n",
       "1      0   21:05:16            11.08                  185 MHz   \n",
       "2      0   21:05:17            14.24                  248 MHz   \n",
       "3      0   21:05:18            37.46                  945 MHz   \n",
       "4      0   21:05:19            34.05                 1504 MHz   \n",
       "\n",
       "   clocks.current.memory [MHz]  clocks.current.graphics [MHz]  \n",
       "0                      405 MHz                        175 MHz  \n",
       "1                      405 MHz                        185 MHz  \n",
       "2                      405 MHz                        248 MHz  \n",
       "3                     3802 MHz                        945 MHz  \n",
       "4                     3802 MHz                       1504 MHz  "
      ]
     },
     "execution_count": 62,
     "metadata": {},
     "output_type": "execute_result"
    }
   ],
   "source": [
    "data[' timestamp'] = pd.to_datetime(data[' timestamp'])\n",
    "data[' timestamp'] = data[' timestamp'].dt.strftime('%H:%M:%S')\n",
    "data[' power.draw [W]'] = data[' power.draw [W]'].str.replace('W', '').astype(float)\n",
    "data.head()"
   ]
  },
  {
   "cell_type": "code",
   "execution_count": 65,
   "metadata": {},
   "outputs": [
    {
     "data": {
      "image/png": "[encoded data removed]",
      "text/plain": [
       "<Figure size 720x360 with 1 Axes>"
      ]
     },
     "metadata": {
      "needs_background": "light"
     },
     "output_type": "display_data"
    }
   ],
   "source": [
    "plt.figure(figsize=(10,5))\n",
    "plt.plot(np.arange(0,len(data[' power.draw [W]']),1), data[' power.draw [W]'], color='coral', label='Power Draw')\n",
    "plt.xlabel('Timestamps (Seconds)')\n",
    "plt.xticks(rotation=30)\n",
    "plt.ylabel('Power Draw (W)')\n",
    "plt.title('GPU Power Draw during Training')\n",
    "plt.show()"
   ]
  },
  {
   "cell_type": "code",
   "execution_count": 66,
   "metadata": {},
   "outputs": [
    {
     "name": "stdout",
     "output_type": "stream",
     "text": [
      " Total energy usage = 3668.48W or 0.1KWh\n"
     ]
    }
   ],
   "source": [
    "total_energy_usage = data[' power.draw [W]'].sum()\n",
    "kWh = total_energy_usage * ( len(data[' power.draw [W]']) / 3600 ) / 1000\n",
    "print(f' Total energy usage = {total_energy_usage}W or {round(kWh, 2)}KWh')"
   ]
  }
 ],
 "metadata": {
  "interpreter": {
   "hash": "56e98236f8c636bf46699ec7acbcf4f82fa7d2f8d04c118bb47e5affabcc0765"
  },
  "kernelspec": {
   "display_name": "Python 3.6.13 ('cuda2')",
   "language": "python",
   "name": "python3"
  },
  "language_info": {
   "codemirror_mode": {
    "name": "ipython",
    "version": 3
   },
   "file_extension": ".py",
   "mimetype": "text/x-python",
   "name": "python",
   "nbconvert_exporter": "python",
   "pygments_lexer": "ipython3",
   "version": "3.6.13"
  },
  "orig_nbformat": 4
 },
 "nbformat": 4,
 "nbformat_minor": 2
}
