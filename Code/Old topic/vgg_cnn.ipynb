{
 "cells": [
  {
   "cell_type": "markdown",
   "metadata": {},
   "source": [
    "#### VGG for the Bird Classificaiton"
   ]
  },
  {
   "cell_type": "code",
   "execution_count": 1,
   "metadata": {},
   "outputs": [],
   "source": [
    "import numpy as np\n",
    "import pandas as pd\n",
    "import matplotlib.pyplot as plt\n",
    "import tensorflow as tf\n",
    "from PIL import Image\n",
    "\n",
    "import os\n",
    "os.environ['TF_CPP_MIN_LOG_LEVEL'] = '3'"
   ]
  },
  {
   "cell_type": "code",
   "execution_count": 2,
   "metadata": {},
   "outputs": [
    {
     "name": "stdout",
     "output_type": "stream",
     "text": [
      "Num GPUs Available:  1\n"
     ]
    }
   ],
   "source": [
    "print(\"Num GPUs Available: \", len(tf.config.list_physical_devices('GPU')))"
   ]
  },
  {
   "cell_type": "code",
   "execution_count": 3,
   "metadata": {},
   "outputs": [],
   "source": [
    "DIR_TRAIN = \"\\\\Users\\\\Maxi\\\\Downloads\\\\archive\\\\train\\\\\"\n",
    "DIR_VALID = \"\\\\Users\\\\Maxi\\\\Downloads\\\\archive\\\\valid\\\\\"\n",
    "DIR_TEST = \"\\\\Users\\\\Maxi\\\\Downloads\\\\archive\\\\test\\\\\""
   ]
  },
  {
   "cell_type": "code",
   "execution_count": 4,
   "metadata": {},
   "outputs": [
    {
     "name": "stdout",
     "output_type": "stream",
     "text": [
      "Found 56046 images belonging to 385 classes.\n",
      "Found 1925 images belonging to 385 classes.\n",
      "Found 1925 images belonging to 385 classes.\n"
     ]
    }
   ],
   "source": [
    "train_datagen = tf.keras.preprocessing.image.ImageDataGenerator(rescale=1./255)\n",
    "valid_datagen = tf.keras.preprocessing.image.ImageDataGenerator(rescale=1./255)\n",
    "test_datagen = tf.keras.preprocessing.image.ImageDataGenerator(rescale=1./255)\n",
    "\n",
    "train_datagen = train_datagen.flow_from_directory(DIR_TRAIN,\n",
    "                                                target_size=(224,224), \n",
    "                                                color_mode='rgb', \n",
    "                                                class_mode='categorical', \n",
    "                                                batch_size=32,\n",
    "                                                shuffle=True)\n",
    "\n",
    "valid_datagen = valid_datagen.flow_from_directory(DIR_VALID,\n",
    "                                                target_size=(224,224), \n",
    "                                                color_mode='rgb', \n",
    "                                                class_mode='categorical', \n",
    "                                                batch_size=32,\n",
    "                                                shuffle=True)\n",
    "\n",
    "test_datagen = test_datagen.flow_from_directory(DIR_TEST,\n",
    "                                                target_size=(224,224), \n",
    "                                                color_mode='rgb', \n",
    "                                                class_mode='categorical', \n",
    "                                                batch_size=32,\n",
    "                                                shuffle=True)"
   ]
  },
  {
   "cell_type": "code",
   "execution_count": 9,
   "metadata": {},
   "outputs": [],
   "source": [
    "class VGG_16_Net(tf.keras.Model):\n",
    "    def __init__(self):\n",
    "        super(VGG_16_Net, self).__init__()\n",
    "\n",
    "        self.layer = [\n",
    "            tf.keras.layers.Conv2D(filters=64, kernel_size=(3,3), padding='same', activation='relu'),\n",
    "            tf.keras.layers.MaxPool2D(pool_size=(2,2), strides=(2,2)),\n",
    "            tf.keras.layers.BatchNormalization(),\n",
    "            tf.keras.layers.Dropout(0.3),\n",
    "\n",
    "            tf.keras.layers.Conv2D(filters=128, kernel_size=(3,3), padding='same', activation='relu'),\n",
    "            tf.keras.layers.MaxPool2D(pool_size=(2,2), strides=(2,2)),\n",
    "            tf.keras.layers.BatchNormalization(),\n",
    "            tf.keras.layers.Dropout(0.3),\n",
    "\n",
    "            tf.keras.layers.Conv2D(filters=256, kernel_size=(3,3), padding='same', activation='relu'),\n",
    "            tf.keras.layers.MaxPool2D(pool_size=(2,2), strides=(2,2)),\n",
    "            tf.keras.layers.BatchNormalization(),\n",
    "            tf.keras.layers.Dropout(0.3),\n",
    "\n",
    "            tf.keras.layers.Conv2D(filters=512, kernel_size=(3,3), padding='same', activation='relu'),\n",
    "            tf.keras.layers.MaxPool2D(pool_size=(2,2), strides=(2,2)),\n",
    "            tf.keras.layers.BatchNormalization(),\n",
    "            tf.keras.layers.Dropout(0.3),\n",
    "\n",
    "            tf.keras.layers.MaxPool2D(pool_size=(2,2), strides=(2,2)),\n",
    "            tf.keras.layers.Flatten(),\n",
    "            tf.keras.layers.Dense(units=385, activation='softmax'),\n",
    "        ]\n",
    "\n",
    "    def call(self, x):\n",
    "        for layer in self.layer:\n",
    "            x = layer(x)\n",
    "        return x"
   ]
  },
  {
   "cell_type": "code",
   "execution_count": 13,
   "metadata": {},
   "outputs": [],
   "source": [
    "net = VGG_16_Net()\n",
    "\n",
    "net.build(input_shape=(32, 224, 224, 3))\n",
    "net.compile(optimizer=tf.keras.optimizers.SGD(learning_rate=0.001, decay=1e-6, momentum=0.9, nesterov=True), loss='categorical_crossentropy', metrics=['accuracy'])"
   ]
  },
  {
   "cell_type": "code",
   "execution_count": 14,
   "metadata": {},
   "outputs": [
    {
     "name": "stdout",
     "output_type": "stream",
     "text": [
      "Epoch 1/5\n",
      "1752/1752 [==============================] - 272s 155ms/step - loss: 6.1508 - accuracy: 0.1947 - val_loss: 3.7899 - val_accuracy: 0.3288\n",
      "Epoch 2/5\n",
      "1752/1752 [==============================] - 279s 159ms/step - loss: 2.6965 - accuracy: 0.4842 - val_loss: 3.2230 - val_accuracy: 0.3964\n",
      "Epoch 3/5\n",
      "1752/1752 [==============================] - 276s 157ms/step - loss: 1.4780 - accuracy: 0.6607 - val_loss: 1.8839 - val_accuracy: 0.5932\n",
      "Epoch 4/5\n",
      "1752/1752 [==============================] - 277s 158ms/step - loss: 0.8918 - accuracy: 0.7733 - val_loss: 1.8459 - val_accuracy: 0.5953\n",
      "Epoch 5/5\n",
      "1752/1752 [==============================] - 279s 159ms/step - loss: 0.5528 - accuracy: 0.8565 - val_loss: 1.6386 - val_accuracy: 0.6322\n"
     ]
    }
   ],
   "source": [
    "history = net.fit(train_datagen, epochs=5, validation_data=valid_datagen)"
   ]
  },
  {
   "cell_type": "code",
   "execution_count": 24,
   "metadata": {},
   "outputs": [
    {
     "data": {
      "image/png": "[encoded data removed]",
      "text/plain": [
       "<Figure size 1080x360 with 2 Axes>"
      ]
     },
     "metadata": {
      "needs_background": "light"
     },
     "output_type": "display_data"
    }
   ],
   "source": [
    "plt.figure(figsize=(15,5))\n",
    "plt.subplot(1, 2, 1)\n",
    "plt.plot(history.history['accuracy'], label='accuracy')\n",
    "plt.plot(history.history['val_accuracy'], label='val_accuracy')\n",
    "plt.title('model accuracy')\n",
    "plt.ylabel('accuracy')\n",
    "plt.xlabel('epoch')\n",
    "plt.legend()\n",
    "plt.subplot(1, 2, 2)\n",
    "plt.plot(history.history['loss'], label='loss')\n",
    "plt.plot(history.history['val_loss'], label='val_loss')\n",
    "plt.title('model loss')\n",
    "plt.ylabel('loss')\n",
    "plt.xlabel('epoch')\n",
    "plt.legend()\n",
    "plt.show()"
   ]
  }
 ],
 "metadata": {
  "interpreter": {
   "hash": "56e98236f8c636bf46699ec7acbcf4f82fa7d2f8d04c118bb47e5affabcc0765"
  },
  "kernelspec": {
   "display_name": "Python 3.6.13 ('cuda2')",
   "language": "python",
   "name": "python3"
  },
  "language_info": {
   "codemirror_mode": {
    "name": "ipython",
    "version": 3
   },
   "file_extension": ".py",
   "mimetype": "text/x-python",
   "name": "python",
   "nbconvert_exporter": "python",
   "pygments_lexer": "ipython3",
   "version": "3.6.13"
  },
  "orig_nbformat": 4
 },
 "nbformat": 4,
 "nbformat_minor": 2
}
