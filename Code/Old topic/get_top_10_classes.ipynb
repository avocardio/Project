{
 "cells": [
  {
   "cell_type": "markdown",
   "metadata": {},
   "source": [
    "#### Get top 10 classes from the dataset"
   ]
  },
  {
   "cell_type": "code",
   "execution_count": 12,
   "metadata": {},
   "outputs": [],
   "source": [
    "import os\n",
    "import pandas as pd\n",
    "import matplotlib.pyplot as plt\n",
    "import shutil\n",
    "import numpy as np"
   ]
  },
  {
   "cell_type": "code",
   "execution_count": 3,
   "metadata": {},
   "outputs": [],
   "source": [
    "BASE_DIR = \"\\\\Users\\\\Maxi\\\\Downloads\\\\archive\\\\\"\n",
    "DIR_TRAIN = \"\\\\Users\\\\Maxi\\\\Downloads\\\\archive\\\\train\\\\\"\n",
    "DIR_VALID = \"\\\\Users\\\\Maxi\\\\Downloads\\\\archive\\\\valid\\\\\"\n",
    "DIR_TEST = \"\\\\Users\\\\Maxi\\\\Downloads\\\\archive\\\\test\\\\\""
   ]
  },
  {
   "cell_type": "code",
   "execution_count": 4,
   "metadata": {},
   "outputs": [
    {
     "name": "stdout",
     "output_type": "stream",
     "text": [
      "                      count\n",
      "labels                     \n",
      "HOUSE FINCH             259\n",
      "D-ARNAUDS BARBET        243\n",
      "OVENBIRD                243\n",
      "SWINHOES PHEASANT       227\n",
      "WOOD DUCK               224\n",
      "CASPIAN TERN            223\n",
      "OYSTER CATCHER          217\n",
      "DARK EYED JUNCO         213\n",
      "RED TAILED HAWK         212\n",
      "VIOLET GREEN SWALLOW    211\n"
     ]
    }
   ],
   "source": [
    "birds = pd.read_csv(\"\\\\Users\\\\Maxi\\\\Downloads\\\\archive\\\\birds.csv\")\n",
    "\n",
    "birds.drop('data set', axis=1, inplace=True)\n",
    "\n",
    "top_birds = birds.drop('class index', axis=1).groupby('labels').count().nlargest(10, 'filepaths').rename(columns={'filepaths':'count'})\n",
    "print(top_birds)"
   ]
  },
  {
   "cell_type": "code",
   "execution_count": 5,
   "metadata": {},
   "outputs": [
    {
     "data": {
      "text/plain": [
       "Index(['HOUSE FINCH', 'D-ARNAUDS BARBET', 'OVENBIRD', 'SWINHOES PHEASANT',\n",
       "       'WOOD DUCK', 'CASPIAN TERN', 'OYSTER CATCHER', 'DARK EYED JUNCO',\n",
       "       'RED TAILED HAWK', 'VIOLET GREEN SWALLOW'],\n",
       "      dtype='object', name='labels')"
      ]
     },
     "execution_count": 5,
     "metadata": {},
     "output_type": "execute_result"
    }
   ],
   "source": [
    "top_birds.index"
   ]
  },
  {
   "cell_type": "code",
   "execution_count": null,
   "metadata": {},
   "outputs": [],
   "source": [
    "# Take 100 random files from each class and save them to the base directory\n",
    "\n",
    "for i in os.listdir(DIR_TRAIN):\n",
    "    if i in top_birds.index:\n",
    "        os.mkdir(BASE_DIR + i + '\\\\')\n",
    "        for y in np.random.choice(os.listdir(DIR_TRAIN + i), 100, replace=False):\n",
    "            shutil.copy2(DIR_TRAIN + i + '\\\\' + y, BASE_DIR + i + '\\\\')"
   ]
  },
  {
   "cell_type": "code",
   "execution_count": 129,
   "metadata": {},
   "outputs": [
    {
     "name": "stdout",
     "output_type": "stream",
     "text": [
      "HOUSE FINCH 100\n",
      "D-ARNAUDS BARBET 100\n",
      "OVENBIRD 100\n",
      "SWINHOES PHEASANT 100\n",
      "WOOD DUCK 100\n",
      "CASPIAN TERN 100\n",
      "OYSTER CATCHER 100\n",
      "DARK EYED JUNCO 100\n",
      "RED TAILED HAWK 100\n",
      "VIOLET GREEN SWALLOW 100\n"
     ]
    }
   ],
   "source": [
    "for i in top_birds.index:\n",
    "    print(i, len(os.listdir(BASE_DIR + i)))"
   ]
  }
 ],
 "metadata": {
  "interpreter": {
   "hash": "56e98236f8c636bf46699ec7acbcf4f82fa7d2f8d04c118bb47e5affabcc0765"
  },
  "kernelspec": {
   "display_name": "Python 3.6.13 ('cuda2')",
   "language": "python",
   "name": "python3"
  },
  "language_info": {
   "codemirror_mode": {
    "name": "ipython",
    "version": 3
   },
   "file_extension": ".py",
   "mimetype": "text/x-python",
   "name": "python",
   "nbconvert_exporter": "python",
   "pygments_lexer": "ipython3",
   "version": "3.6.13"
  },
  "orig_nbformat": 4
 },
 "nbformat": 4,
 "nbformat_minor": 2
}
